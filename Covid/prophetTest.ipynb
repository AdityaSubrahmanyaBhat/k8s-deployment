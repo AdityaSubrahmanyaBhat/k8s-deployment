{
 "cells": [
  {
   "cell_type": "code",
   "execution_count": 3,
   "metadata": {},
   "outputs": [
    {
     "name": "stdout",
     "output_type": "stream",
     "text": [
      "Collecting numpy==1.23.0\n",
      "  Downloading numpy-1.23.0-cp39-cp39-win_amd64.whl (14.7 MB)\n",
      "Installing collected packages: numpy\n",
      "  Attempting uninstall: numpy\n",
      "    Found existing installation: numpy 1.23.4\n",
      "    Uninstalling numpy-1.23.4:\n",
      "      Successfully uninstalled numpy-1.23.4\n"
     ]
    },
    {
     "name": "stderr",
     "output_type": "stream",
     "text": [
      "ERROR: Could not install packages due to an OSError: [WinError 5] Access is denied: 'C:\\\\Users\\\\91767\\\\AppData\\\\Local\\\\Continuum\\\\anaconda3\\\\envs\\\\py39\\\\lib\\\\site-packages\\\\~umpy\\\\.libs\\\\libopenblas.FB5AE2TYXYH2IJRDKGDGQ3XBKLKTF43H.gfortran-win_amd64.dll'\n",
      "Consider using the `--user` option or check the permissions.\n",
      "\n"
     ]
    }
   ],
   "source": [
    "!python -m pip install numpy==1.23.0"
   ]
  },
  {
   "cell_type": "code",
   "execution_count": 16,
   "metadata": {},
   "outputs": [],
   "source": [
    "import numpy as np\n",
    "import pandas as pd\n",
    "from prophet import Prophet\n",
    "from sklearn import metrics\n"
   ]
  },
  {
   "cell_type": "code",
   "execution_count": 20,
   "metadata": {},
   "outputs": [
    {
     "name": "stderr",
     "output_type": "stream",
     "text": [
      "12:59:01 - cmdstanpy - INFO - Chain [1] start processing\n",
      "12:59:02 - cmdstanpy - INFO - Chain [1] done processing\n"
     ]
    },
    {
     "name": "stdout",
     "output_type": "stream",
     "text": [
      "MAE = 6312.504961942849\n",
      "RMSE = 10419.724593536728\n"
     ]
    }
   ],
   "source": [
    "class TSF:\n",
    "    def __init__(self) -> None:\n",
    "        df=pd.read_csv('data.csv',parse_dates=True)\n",
    "        df=df.dropna()\n",
    "        self.train_data=df\n",
    "\n",
    "    def train(self)->None:\n",
    "        # print(self.train_data.tail())\n",
    "        self.model=Prophet()\n",
    "        self.train_data.rename(columns = {'Date':'ds'}, inplace = True)\n",
    "        self.train_data.rename(columns = {'Cases':'y'}, inplace = True)\n",
    "        self.model.fit(self.train_data)\n",
    "\n",
    "    def predict_(self)->None:\n",
    "        self.future = list()\n",
    "        for i in range(1, 13):\n",
    "            for j in range(1,28):\n",
    "                date = '{}-{}-2020'.format(i,j)\n",
    "                self.future.append([date])\n",
    "        self.future = pd.DataFrame(self.future)\n",
    "        self.future.columns = ['ds']\n",
    "        self.future['ds']= pd.to_datetime(self.future['ds'])\n",
    "        self.pred=self.model.predict(self.future)\n",
    "\n",
    "    def metrics(self)->None:\n",
    "        self.y_true = self.train_data['y'][-324:].values\n",
    "        # print(self.train_data['y'][-12:])\n",
    "        self.y_pred = self.pred['yhat'].values\n",
    "        self.MAE = metrics.mean_absolute_error(self.y_true,self.y_pred)\n",
    "        self.MSE = metrics.mean_squared_error(self.y_true, self.y_pred)\n",
    "        self.RMSE = np.sqrt(self.MSE)\n",
    "        print(\"MAE = \"+str(self.MAE))\n",
    "        # print(\"MSE = \"+str(self.MSE))\n",
    "        print(\"RMSE = \"+str(self.RMSE))\n",
    "        \n",
    "\n",
    "if __name__==\"__main__\":\n",
    "    tsf=TSF()\n",
    "    tsf.train()\n",
    "    tsf.predict_()\n",
    "    tsf.metrics()"
   ]
  }
 ],
 "metadata": {
  "kernelspec": {
   "display_name": "Python 3.9.7 ('py39')",
   "language": "python",
   "name": "python3"
  },
  "language_info": {
   "codemirror_mode": {
    "name": "ipython",
    "version": 3
   },
   "file_extension": ".py",
   "mimetype": "text/x-python",
   "name": "python",
   "nbconvert_exporter": "python",
   "pygments_lexer": "ipython3",
   "version": "3.9.7"
  },
  "orig_nbformat": 4,
  "vscode": {
   "interpreter": {
    "hash": "a957b018aca2ed77648ad1ac4f3edcb8ae2a79cbb329214757a9f7e4e81ce073"
   }
  }
 },
 "nbformat": 4,
 "nbformat_minor": 2
}
