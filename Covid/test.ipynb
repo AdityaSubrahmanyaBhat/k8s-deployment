{
 "cells": [
  {
   "cell_type": "code",
   "execution_count": 2,
   "metadata": {},
   "outputs": [
    {
     "name": "stdout",
     "output_type": "stream",
     "text": [
      "Requirement already satisfied: numpy==1.23.0 in c:\\users\\91767\\appdata\\local\\continuum\\anaconda3\\envs\\py39\\lib\\site-packages (1.23.0)\n"
     ]
    }
   ],
   "source": [
    "!python -m pip install numpy==1.23.0"
   ]
  },
  {
   "cell_type": "code",
   "execution_count": 3,
   "metadata": {},
   "outputs": [],
   "source": [
    "import numpy as np\n",
    "import pandas as pd\n",
    "from statsmodels.tsa.statespace.sarimax import SARIMAX\n",
    "from statsmodels.tsa.statespace.varmax import VARMAX\n",
    "from sklearn import metrics"
   ]
  },
  {
   "cell_type": "code",
   "execution_count": 29,
   "metadata": {},
   "outputs": [
    {
     "name": "stderr",
     "output_type": "stream",
     "text": [
      "c:\\Users\\91767\\AppData\\Local\\Continuum\\anaconda3\\envs\\py39\\lib\\site-packages\\statsmodels\\tsa\\base\\tsa_model.py:524: ValueWarning: No frequency information was provided, so inferred frequency D will be used.\n",
      "  warnings.warn('No frequency information was'\n",
      "c:\\Users\\91767\\AppData\\Local\\Continuum\\anaconda3\\envs\\py39\\lib\\site-packages\\statsmodels\\tsa\\base\\tsa_model.py:524: ValueWarning: No frequency information was provided, so inferred frequency D will be used.\n",
      "  warnings.warn('No frequency information was'\n",
      "c:\\Users\\91767\\AppData\\Local\\Continuum\\anaconda3\\envs\\py39\\lib\\site-packages\\statsmodels\\tsa\\statespace\\sarimax.py:966: UserWarning: Non-stationary starting autoregressive parameters found. Using zeros as starting parameters.\n",
      "  warn('Non-stationary starting autoregressive parameters'\n",
      "c:\\Users\\91767\\AppData\\Local\\Continuum\\anaconda3\\envs\\py39\\lib\\site-packages\\statsmodels\\tsa\\base\\tsa_model.py:524: ValueWarning: No frequency information was provided, so inferred frequency D will be used.\n",
      "  warnings.warn('No frequency information was'\n",
      "c:\\Users\\91767\\AppData\\Local\\Continuum\\anaconda3\\envs\\py39\\lib\\site-packages\\statsmodels\\tsa\\base\\tsa_model.py:524: ValueWarning: No frequency information was provided, so inferred frequency D will be used.\n",
      "  warnings.warn('No frequency information was'\n"
     ]
    },
    {
     "name": "stdout",
     "output_type": "stream",
     "text": [
      "            Cases\n",
      "Date             \n",
      "2020-01-31    0.0\n",
      "2020-02-01    0.0\n",
      "2020-02-02    1.0\n",
      "2020-02-03    1.0\n",
      "2020-02-04    0.0\n",
      "(463, 1)\n"
     ]
    },
    {
     "ename": "IndexError",
     "evalue": "tuple index out of range",
     "output_type": "error",
     "traceback": [
      "\u001b[1;31m---------------------------------------------------------------------------\u001b[0m",
      "\u001b[1;31mIndexError\u001b[0m                                Traceback (most recent call last)",
      "\u001b[1;32m~\\AppData\\Local\\Temp/ipykernel_13132/3643390244.py\u001b[0m in \u001b[0;36m<module>\u001b[1;34m\u001b[0m\n\u001b[0;32m     63\u001b[0m \u001b[1;32mif\u001b[0m \u001b[0m__name__\u001b[0m\u001b[1;33m==\u001b[0m\u001b[1;34m\"__main__\"\u001b[0m\u001b[1;33m:\u001b[0m\u001b[1;33m\u001b[0m\u001b[1;33m\u001b[0m\u001b[0m\n\u001b[0;32m     64\u001b[0m     \u001b[0mtsf\u001b[0m\u001b[1;33m=\u001b[0m\u001b[0mTSF\u001b[0m\u001b[1;33m(\u001b[0m\u001b[1;33m)\u001b[0m\u001b[1;33m\u001b[0m\u001b[1;33m\u001b[0m\u001b[0m\n\u001b[1;32m---> 65\u001b[1;33m     \u001b[0mtsf\u001b[0m\u001b[1;33m.\u001b[0m\u001b[0mtrain\u001b[0m\u001b[1;33m(\u001b[0m\u001b[1;33m)\u001b[0m\u001b[1;33m\u001b[0m\u001b[1;33m\u001b[0m\u001b[0m\n\u001b[0m\u001b[0;32m     66\u001b[0m     \u001b[0mtsf\u001b[0m\u001b[1;33m.\u001b[0m\u001b[0mpredict_\u001b[0m\u001b[1;33m(\u001b[0m\u001b[1;33m)\u001b[0m\u001b[1;33m\u001b[0m\u001b[1;33m\u001b[0m\u001b[0m\n\u001b[0;32m     67\u001b[0m     \u001b[0mtsf\u001b[0m\u001b[1;33m.\u001b[0m\u001b[0mmetrics\u001b[0m\u001b[1;33m(\u001b[0m\u001b[1;33m)\u001b[0m\u001b[1;33m\u001b[0m\u001b[1;33m\u001b[0m\u001b[0m\n",
      "\u001b[1;32m~\\AppData\\Local\\Temp/ipykernel_13132/3643390244.py\u001b[0m in \u001b[0;36mtrain\u001b[1;34m(self)\u001b[0m\n\u001b[0;32m     17\u001b[0m         \u001b[0mprint\u001b[0m\u001b[1;33m(\u001b[0m\u001b[0mself\u001b[0m\u001b[1;33m.\u001b[0m\u001b[0mmedium_train\u001b[0m\u001b[1;33m.\u001b[0m\u001b[0mhead\u001b[0m\u001b[1;33m(\u001b[0m\u001b[1;33m)\u001b[0m\u001b[1;33m)\u001b[0m\u001b[1;33m\u001b[0m\u001b[1;33m\u001b[0m\u001b[0m\n\u001b[0;32m     18\u001b[0m         \u001b[0mprint\u001b[0m\u001b[1;33m(\u001b[0m\u001b[0mself\u001b[0m\u001b[1;33m.\u001b[0m\u001b[0mmedium_train\u001b[0m\u001b[1;33m.\u001b[0m\u001b[0mshape\u001b[0m\u001b[1;33m)\u001b[0m\u001b[1;33m\u001b[0m\u001b[1;33m\u001b[0m\u001b[0m\n\u001b[1;32m---> 19\u001b[1;33m         \u001b[0mself\u001b[0m\u001b[1;33m.\u001b[0m\u001b[0mvarmax_medium\u001b[0m\u001b[1;33m=\u001b[0m\u001b[0mVARMAX\u001b[0m\u001b[1;33m(\u001b[0m\u001b[0mself\u001b[0m\u001b[1;33m.\u001b[0m\u001b[0mmedium_train\u001b[0m\u001b[1;33m[\u001b[0m\u001b[1;34m\"Cases\"\u001b[0m\u001b[1;33m]\u001b[0m\u001b[1;33m)\u001b[0m\u001b[1;33m\u001b[0m\u001b[1;33m\u001b[0m\u001b[0m\n\u001b[0m\u001b[0;32m     20\u001b[0m         \u001b[1;31m# self.varmax_medium.fit()\u001b[0m\u001b[1;33m\u001b[0m\u001b[1;33m\u001b[0m\u001b[0m\n\u001b[0;32m     21\u001b[0m \u001b[1;33m\u001b[0m\u001b[0m\n",
      "\u001b[1;32mc:\\Users\\91767\\AppData\\Local\\Continuum\\anaconda3\\envs\\py39\\lib\\site-packages\\statsmodels\\tsa\\statespace\\varmax.py\u001b[0m in \u001b[0;36m__init__\u001b[1;34m(self, endog, exog, order, trend, error_cov_type, measurement_error, enforce_stationarity, enforce_invertibility, trend_offset, **kwargs)\u001b[0m\n\u001b[0;32m    187\u001b[0m \u001b[1;33m\u001b[0m\u001b[0m\n\u001b[0;32m    188\u001b[0m         \u001b[1;31m# Number of states\u001b[0m\u001b[1;33m\u001b[0m\u001b[1;33m\u001b[0m\u001b[0m\n\u001b[1;32m--> 189\u001b[1;33m         \u001b[0mk_endog\u001b[0m \u001b[1;33m=\u001b[0m \u001b[0mendog\u001b[0m\u001b[1;33m.\u001b[0m\u001b[0mshape\u001b[0m\u001b[1;33m[\u001b[0m\u001b[1;36m1\u001b[0m\u001b[1;33m]\u001b[0m\u001b[1;33m\u001b[0m\u001b[1;33m\u001b[0m\u001b[0m\n\u001b[0m\u001b[0;32m    190\u001b[0m         \u001b[0mk_posdef\u001b[0m \u001b[1;33m=\u001b[0m \u001b[0mk_endog\u001b[0m\u001b[1;33m\u001b[0m\u001b[1;33m\u001b[0m\u001b[0m\n\u001b[0;32m    191\u001b[0m         \u001b[0mk_states\u001b[0m \u001b[1;33m=\u001b[0m \u001b[0mk_endog\u001b[0m \u001b[1;33m*\u001b[0m \u001b[0mself\u001b[0m\u001b[1;33m.\u001b[0m\u001b[0m_k_order\u001b[0m\u001b[1;33m\u001b[0m\u001b[1;33m\u001b[0m\u001b[0m\n",
      "\u001b[1;31mIndexError\u001b[0m: tuple index out of range"
     ]
    }
   ],
   "source": [
    "class TSF:\n",
    "    def __init__(self) -> None:\n",
    "        df=pd.read_csv('data.csv',parse_dates=True,index_col=\"Date\")\n",
    "        df=df.dropna()\n",
    "        self.medium_train=df.iloc[:-20]\n",
    "        self.medium_test=df.iloc[-20:]\n",
    "        self.small_train=df.iloc[141:240]\n",
    "        self.small_test=df.iloc[240:245]\n",
    "\n",
    "    def train(self)->None:\n",
    "        self.sarimax_medium=SARIMAX(self.medium_train[\"Cases\"])\n",
    "        self.sarimax_medium_fit=self.sarimax_medium.fit()\n",
    "\n",
    "        self.sarimax_small=SARIMAX(self.small_train[\"Cases\"])\n",
    "        self.sarimax_small_fit=self.sarimax_small.fit()\n",
    "\n",
    "        print(self.medium_train.head())\n",
    "        print(self.medium_train.shape)\n",
    "        self.varmax_medium=VARMAX(self.medium_train[\"Cases\"])\n",
    "        # self.varmax_medium.fit()\n",
    "\n",
    "        # self.varmax_small=VARMAX(self.small_train)\n",
    "        # self.varmax_small.fit()\n",
    "        \n",
    "\n",
    "    def predict_(self)->None:\n",
    "        start_med=len(self.medium_train)\n",
    "        end_med=len(self.medium_train)+len(self.medium_test)-1\n",
    "        self.sarimax_med_pred=self.sarimax_medium_fit.predict(start=start_med,end=end_med)\n",
    "        # self.varmax_med_pred=self.varmax_medium.predict(start=start_med,end=end_med)\n",
    "\n",
    "        start_sm=len(self.small_train)\n",
    "        end_sm=len(self.small_train)+len(self.small_test)-1\n",
    "        self.sarimax_sm_pred=self.sarimax_small_fit.predict(start=start_sm,end=end_sm)\n",
    "        # self.varmax_sm_pred=self.varmax_small.predict(start=start_sm,end=end_sm)\n",
    "\n",
    "    def metrics(self)->None:\n",
    "        self.MAE_sarimax_med = metrics.mean_absolute_error(self.medium_test,self.sarimax_med_pred)\n",
    "        self.MSE_sarimax_med = metrics.mean_squared_error(self.medium_test, self.sarimax_med_pred)\n",
    "        self.RMSE_sarimax_med = np.sqrt(self.MSE_sarimax_med)\n",
    "\n",
    "        # self.MAE_varmax_med = metrics.mean_absolute_error(self.medium_test,self.varmax_med_pred)\n",
    "        # self.MSE_varmax_med = metrics.mean_squared_error(self.medium_test, self.varmax_med_pred)\n",
    "        # self.RMSE_varmax_med = np.sqrt(self.MSE_varmax_med)\n",
    "\n",
    "\n",
    "        self.MAE_sarimax_sm = metrics.mean_absolute_error(self.small_test,self.sarimax_sm_pred)\n",
    "        self.MSE_sarimax_sm = metrics.mean_squared_error(self.small_test, self.sarimax_sm_pred)\n",
    "        self.RMSE_sarimax_sm = np.sqrt(self.MSE_sarimax_sm)\n",
    "\n",
    "        print(\"Sarimax medium\")\n",
    "        print(self.MAE_sarimax_med)\n",
    "        print(self.RMSE_sarimax_med)\n",
    "        # print(\"Varmax medium\")\n",
    "        # print(self.MAE_varmax_med)\n",
    "        # print(self.RMSE_varmax_med)\n",
    "        print(\"Sarimax small\")\n",
    "        print(self.MAE_sarimax_sm)\n",
    "        print(self.RMSE_sarimax_sm)\n",
    "\n",
    "        \n",
    "\n",
    "if __name__==\"__main__\":\n",
    "    tsf=TSF()\n",
    "    tsf.train()\n",
    "    tsf.predict_()\n",
    "    tsf.metrics()"
   ]
  }
 ],
 "metadata": {
  "kernelspec": {
   "display_name": "Python 3.9.7 ('py39')",
   "language": "python",
   "name": "python3"
  },
  "language_info": {
   "codemirror_mode": {
    "name": "ipython",
    "version": 3
   },
   "file_extension": ".py",
   "mimetype": "text/x-python",
   "name": "python",
   "nbconvert_exporter": "python",
   "pygments_lexer": "ipython3",
   "version": "3.9.7"
  },
  "orig_nbformat": 4,
  "vscode": {
   "interpreter": {
    "hash": "a957b018aca2ed77648ad1ac4f3edcb8ae2a79cbb329214757a9f7e4e81ce073"
   }
  }
 },
 "nbformat": 4,
 "nbformat_minor": 2
}
